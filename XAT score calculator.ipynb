{
 "cells": [
  {
   "cell_type": "code",
   "execution_count": 135,
   "id": "0a99948f",
   "metadata": {},
   "outputs": [],
   "source": [
    "import requests\n",
    "from bs4 import BeautifulSoup as bs\n",
    "url = 'https://cdn3.digialm.com//per/g21/pub/2076/touchstone/AssessmentQPHTMLMode1//2076O222/2076O222S1D820/1673935032496814/XAT23013548_2076O222S1D820E1.html'\n",
    "r = requests.get('https://cdn3.digialm.com//per/g21/pub/2076/touchstone/AssessmentQPHTMLMode1//2076O222/2076O222S1D819/16739345657484607/XAT23063601_2076O222S1D819E1.html')\n",
    "soup = bs(r.content,'html.parser')"
   ]
  },
  {
   "cell_type": "code",
   "execution_count": 136,
   "id": "2a24cfbb",
   "metadata": {},
   "outputs": [],
   "source": [
    "right_ans = soup.find_all('td',attrs={'class':'rightAns'})\n",
    "right_ans_list=[right_ans[i].text.strip()[0] for i in range(len(right_ans))]\n"
   ]
  },
  {
   "cell_type": "code",
   "execution_count": 137,
   "id": "90023a69",
   "metadata": {},
   "outputs": [
    {
     "data": {
      "text/plain": [
       "True"
      ]
     },
     "execution_count": 137,
     "metadata": {},
     "output_type": "execute_result"
    }
   ],
   "source": [
    "given_ans=soup.find_all('td',attrs={'class':'bold'})\n",
    "given_ans_list=[given_ans[i].text.strip() for i in range(5,len(given_ans),6)]\n",
    "given_ans_list[73] == '--'"
   ]
  },
  {
   "cell_type": "code",
   "execution_count": 138,
   "id": "d03978d7",
   "metadata": {},
   "outputs": [
    {
     "data": {
      "text/plain": [
       "'1'"
      ]
     },
     "execution_count": 138,
     "metadata": {},
     "output_type": "execute_result"
    }
   ],
   "source": [
    "right_ans_list[60]"
   ]
  },
  {
   "cell_type": "code",
   "execution_count": 139,
   "id": "567d3f4e",
   "metadata": {},
   "outputs": [
    {
     "data": {
      "text/plain": [
       "False"
      ]
     },
     "execution_count": 139,
     "metadata": {},
     "output_type": "execute_result"
    }
   ],
   "source": [
    "given_ans_list = given_ans_list[:76]\n",
    "right_ans_list = right_ans_list[:76]\n",
    "# -[right_ans[60],right_ans_list[73],right_ans_list[75]]\n",
    "given_ans_list == right_ans_list"
   ]
  },
  {
   "cell_type": "code",
   "execution_count": 140,
   "id": "45e854f1",
   "metadata": {},
   "outputs": [
    {
     "data": {
      "text/plain": [
       "76"
      ]
     },
     "execution_count": 140,
     "metadata": {},
     "output_type": "execute_result"
    }
   ],
   "source": [
    "len(given_ans_list)"
   ]
  },
  {
   "cell_type": "code",
   "execution_count": 141,
   "id": "26357889",
   "metadata": {},
   "outputs": [
    {
     "data": {
      "text/plain": [
       "'P'"
      ]
     },
     "execution_count": 141,
     "metadata": {},
     "output_type": "execute_result"
    }
   ],
   "source": [
    "right_ans_list[73]"
   ]
  },
  {
   "cell_type": "code",
   "execution_count": 142,
   "id": "23ef2420",
   "metadata": {},
   "outputs": [
    {
     "name": "stdout",
     "output_type": "stream",
     "text": [
      "7.75\n"
     ]
    }
   ],
   "source": [
    "verbal,count = 0,0\n",
    "\n",
    "for i in range(26):\n",
    "    if(given_ans_list[i]==right_ans_list[i]):\n",
    "        verbal+=1\n",
    "    elif(given_ans_list[i]=='--'):\n",
    "        verbal+=0\n",
    "        count+=1\n",
    "    else:\n",
    "        verbal-=0.25\n",
    "print(verbal)"
   ]
  },
  {
   "cell_type": "code",
   "execution_count": 143,
   "id": "f738e3d8",
   "metadata": {},
   "outputs": [
    {
     "name": "stdout",
     "output_type": "stream",
     "text": [
      "7.75\n"
     ]
    }
   ],
   "source": [
    "dm = 0\n",
    "\n",
    "for i in range(26,48):\n",
    "    if(given_ans_list[i]==right_ans_list[i]):\n",
    "        dm+=1\n",
    "    elif(given_ans_list[i]=='--'):\n",
    "        dm+=0\n",
    "        count+=1\n",
    "    else:\n",
    "        dm-=0.25\n",
    "print(dm)"
   ]
  },
  {
   "cell_type": "code",
   "execution_count": 144,
   "id": "d0767b50",
   "metadata": {},
   "outputs": [
    {
     "data": {
      "text/plain": [
       "[]"
      ]
     },
     "execution_count": 144,
     "metadata": {},
     "output_type": "execute_result"
    }
   ],
   "source": [
    "given_ans_list[60:7]"
   ]
  },
  {
   "cell_type": "code",
   "execution_count": 145,
   "id": "300f2a26",
   "metadata": {},
   "outputs": [
    {
     "data": {
      "text/plain": [
       "'5'"
      ]
     },
     "execution_count": 145,
     "metadata": {},
     "output_type": "execute_result"
    }
   ],
   "source": [
    "right_ans_list[72] \n",
    "# == given_ans_list[75]"
   ]
  },
  {
   "cell_type": "code",
   "execution_count": 146,
   "id": "a2fa9d02",
   "metadata": {},
   "outputs": [
    {
     "name": "stdout",
     "output_type": "stream",
     "text": [
      "9.0\n"
     ]
    }
   ],
   "source": [
    "quant = 0\n",
    "for i in range(48,60):\n",
    "    if(given_ans_list[i]==right_ans_list[i]):\n",
    "        quant+=1\n",
    "    elif(given_ans_list[i]=='--'):\n",
    "        quant+=0\n",
    "        count+=1\n",
    "    else:\n",
    "        quant-=0.25\n",
    "for i in range(60,72):\n",
    "    if(given_ans_list[i+1]==right_ans_list[i]):\n",
    "        quant+=1\n",
    "    elif(given_ans_list[i]=='--'):\n",
    "        quant+=0\n",
    "        count+=1\n",
    "    else:\n",
    "        quant-=0.25\n",
    "if (given_ans_list[74] == right_ans_list[72] ):\n",
    "    quant+=1\n",
    "elif(given_ans_list[74]=='--'):\n",
    "        quant+=0\n",
    "        count+=1\n",
    "else:\n",
    "        quant-=0.25\n",
    "print(quant+3)"
   ]
  },
  {
   "cell_type": "code",
   "execution_count": 151,
   "id": "48c4eec7",
   "metadata": {},
   "outputs": [
    {
     "name": "stdout",
     "output_type": "stream",
     "text": [
      "Your Score is as follows\n",
      "Verbal:7.75\n",
      "decision_making:7.75\n",
      "Quant:9.0\n",
      " Unattempted:11\n",
      "Your Total Score is 23.4\n"
     ]
    }
   ],
   "source": [
    "print(f'Your Score is as follows\\nVerbal:{verbal}\\ndecision_making:{dm}\\nQuant:{quant+3}')\n",
    "if count-8 > 0 :\n",
    "    val = count-8\n",
    "    print(f' Unattempted:{val}')\n",
    "    print(f'Your Total Score is {(verbal+quant+dm+3)-0.1*val}')\n",
    "else:\n",
    "\n",
    "    print(f'Your Total Score is {(verbal+quant+ 3+dm)}')"
   ]
  },
  {
   "cell_type": "code",
   "execution_count": 150,
   "id": "44cf5196",
   "metadata": {},
   "outputs": [
    {
     "data": {
      "text/plain": [
       "23.4"
      ]
     },
     "execution_count": 150,
     "metadata": {},
     "output_type": "execute_result"
    }
   ],
   "source": [
    "7.75*2+9 -0.1*11\n"
   ]
  }
 ],
 "metadata": {
  "kernelspec": {
   "display_name": "Python 3 (ipykernel)",
   "language": "python",
   "name": "python3"
  },
  "language_info": {
   "codemirror_mode": {
    "name": "ipython",
    "version": 3
   },
   "file_extension": ".py",
   "mimetype": "text/x-python",
   "name": "python",
   "nbconvert_exporter": "python",
   "pygments_lexer": "ipython3",
   "version": "3.9.13"
  }
 },
 "nbformat": 4,
 "nbformat_minor": 5
}
